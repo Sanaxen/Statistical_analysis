{
 "cells": [
  {
   "cell_type": "code",
   "execution_count": 58,
   "metadata": {},
   "outputs": [],
   "source": [
    "import numpy as np\n",
    "from scipy.spatial.distance import pdist, squareform"
   ]
  },
  {
   "cell_type": "code",
   "execution_count": 59,
   "metadata": {},
   "outputs": [],
   "source": [
    "def k(x,y):\n",
    "    #return np.exp(-0.5*np.linalg.norm(x-y)**2)\n",
    "    return np.exp(-0.5*np.sum(x-y)**2)"
   ]
  },
  {
   "cell_type": "code",
   "execution_count": 60,
   "metadata": {},
   "outputs": [],
   "source": [
    "def Gram_Matrix(X):\n",
    "    pairwise_dist=squareform(pdist(X,'euclidean'))\n",
    "    K=np.exp(-0.5*pairwise_dist**2)\n",
    "    return K"
   ]
  },
  {
   "cell_type": "code",
   "execution_count": 61,
   "metadata": {},
   "outputs": [
    {
     "name": "stdout",
     "output_type": "stream",
     "text": [
      "[[ 0.1403518 ]\n",
      " [ 0.61094596]\n",
      " [-1.2021441 ]\n",
      " ...\n",
      " [ 0.25002102]\n",
      " [ 0.69861538]\n",
      " [ 0.64704338]]\n",
      "[[-2.26971779]\n",
      " [-0.32878927]\n",
      " [-1.54805572]\n",
      " ...\n",
      " [-0.65784901]\n",
      " [-1.7784155 ]\n",
      " [-0.38204322]]\n",
      "[[ 0.28070359]\n",
      " [ 1.22189193]\n",
      " [-2.4042882 ]\n",
      " ...\n",
      " [ 0.50004205]\n",
      " [ 1.39723075]\n",
      " [ 1.29408677]]\n"
     ]
    }
   ],
   "source": [
    "X=np.random.normal(size=(10000,1))\n",
    "Y=np.random.normal(size=(10000,1))\n",
    "Y_2=2*X\n",
    "print(X)\n",
    "print(Y)\n",
    "print(Y_2)\n",
    "sinX = np.sin(X)"
   ]
  },
  {
   "cell_type": "code",
   "execution_count": 62,
   "metadata": {},
   "outputs": [
    {
     "data": {
      "text/plain": [
       "array([[1.        , 0.89518092, 0.40610334, ..., 0.99400438, 0.85570541,\n",
       "        0.87952949],\n",
       "       [0.89518092, 1.        , 0.19327373, ..., 0.93694246, 0.99616441,\n",
       "        0.9993487 ],\n",
       "       [0.40610334, 0.19327373, 1.        , ..., 0.34840427, 0.16423724,\n",
       "        0.18091152],\n",
       "       ...,\n",
       "       [0.99400438, 0.93694246, 0.34840427, ..., 1.        , 0.904278  ,\n",
       "        0.92421239],\n",
       "       [0.85570541, 0.99616441, 0.16423724, ..., 0.904278  , 1.        ,\n",
       "        0.99867105],\n",
       "       [0.87952949, 0.9993487 , 0.18091152, ..., 0.92421239, 0.99867105,\n",
       "        1.        ]])"
      ]
     },
     "execution_count": 62,
     "metadata": {},
     "output_type": "execute_result"
    }
   ],
   "source": [
    "Gram_Matrix(X)"
   ]
  },
  {
   "cell_type": "code",
   "execution_count": 63,
   "metadata": {},
   "outputs": [
    {
     "data": {
      "text/plain": [
       "1.0"
      ]
     },
     "execution_count": 63,
     "metadata": {},
     "output_type": "execute_result"
    }
   ],
   "source": [
    "k(X,X)"
   ]
  },
  {
   "cell_type": "code",
   "execution_count": 64,
   "metadata": {},
   "outputs": [],
   "source": [
    "def HSIC(X,Y):\n",
    "    # Firt calculate the gram matices for the X and Y data\n",
    "    K_x= Gram_Matrix(X)\n",
    "    K_y=Gram_Matrix(Y)\n",
    "    \n",
    "    m=X.shape[0]\n",
    "    H = np.identity(m)-1/m\n",
    "    \n",
    "    K_yH=np.matmul(K_y,H)\n",
    "    HK_yH=np.matmul(H,K_yH)\n",
    "    K_xHK_yH=np.matmul(K_x,HK_yH)\n",
    "    \n",
    "    hsic=(m-1)**(-2)*np.trace(K_xHK_yH)\n",
    "    \n",
    "    return hsic"
   ]
  },
  {
   "cell_type": "code",
   "execution_count": 65,
   "metadata": {},
   "outputs": [
    {
     "name": "stdout",
     "output_type": "stream",
     "text": [
      "7.426319071289261e-06\n"
     ]
    }
   ],
   "source": [
    "print(HSIC(X,Y))"
   ]
  },
  {
   "cell_type": "code",
   "execution_count": 66,
   "metadata": {},
   "outputs": [
    {
     "name": "stdout",
     "output_type": "stream",
     "text": [
      "0.07635597398136489\n"
     ]
    }
   ],
   "source": [
    "print(HSIC(X,Y_2))"
   ]
  },
  {
   "cell_type": "code",
   "execution_count": 67,
   "metadata": {},
   "outputs": [
    {
     "name": "stdout",
     "output_type": "stream",
     "text": [
      "0.07302392897854697\n"
     ]
    }
   ],
   "source": [
    "print(HSIC(X,X))"
   ]
  },
  {
   "cell_type": "code",
   "execution_count": 68,
   "metadata": {},
   "outputs": [
    {
     "name": "stdout",
     "output_type": "stream",
     "text": [
      "0.05907895213329362\n"
     ]
    }
   ],
   "source": [
    "print(HSIC(X,sinX))"
   ]
  },
  {
   "cell_type": "code",
   "execution_count": 69,
   "metadata": {},
   "outputs": [
    {
     "data": {
      "text/plain": [
       "8"
      ]
     },
     "execution_count": 69,
     "metadata": {},
     "output_type": "execute_result"
    }
   ],
   "source": [
    "2**3"
   ]
  },
  {
   "cell_type": "code",
   "execution_count": 70,
   "metadata": {},
   "outputs": [
    {
     "data": {
      "text/plain": [
       "9"
      ]
     },
     "execution_count": 70,
     "metadata": {},
     "output_type": "execute_result"
    }
   ],
   "source": [
    "3**2"
   ]
  },
  {
   "cell_type": "code",
   "execution_count": 71,
   "metadata": {},
   "outputs": [
    {
     "name": "stdout",
     "output_type": "stream",
     "text": [
      "[[1. 0. 0.]\n",
      " [0. 1. 0.]\n",
      " [0. 0. 1.]]\n",
      "0.3333333333333333\n"
     ]
    },
    {
     "data": {
      "text/plain": [
       "array([[ 0.66666667, -0.33333333, -0.33333333],\n",
       "       [-0.33333333,  0.66666667, -0.33333333],\n",
       "       [-0.33333333, -0.33333333,  0.66666667]])"
      ]
     },
     "execution_count": 71,
     "metadata": {},
     "output_type": "execute_result"
    }
   ],
   "source": [
    "m=3\n",
    "print(np.identity(m))\n",
    "print(1/m)\n",
    "np.identity(m)-1/m"
   ]
  },
  {
   "cell_type": "code",
   "execution_count": 72,
   "metadata": {},
   "outputs": [],
   "source": [
    "\"\"\"\n",
    "python implementation of Hilbert Schmidt Independence Criterion\n",
    "hsic_gam implements the HSIC test using a Gamma approximation\n",
    "Python 2.7.12\n",
    "\n",
    "Gretton, A., Fukumizu, K., Teo, C. H., Song, L., Scholkopf, B., \n",
    "& Smola, A. J. (2007). A kernel statistical test of independence. \n",
    "In Advances in neural information processing systems (pp. 585-592).\n",
    "\n",
    "Shoubo (shoubo.sub AT gmail.com)\n",
    "09/11/2016\n",
    "\n",
    "Inputs:\n",
    "X         n by dim_x matrix\n",
    "Y         n by dim_y matrix\n",
    "alph         level of test\n",
    "\n",
    "Outputs:\n",
    "testStat    test statistics\n",
    "thresh        test threshold for level alpha test\n",
    "\"\"\"\n",
    "\n",
    "from __future__ import division\n",
    "import numpy as np\n",
    "from scipy.stats import gamma\n",
    "\n",
    "def rbf_dot(pattern1, pattern2, deg):\n",
    "    size1 = pattern1.shape\n",
    "    size2 = pattern2.shape\n",
    "\n",
    "    G = np.sum(pattern1*pattern1, 1).reshape(size1[0],1)\n",
    "    H = np.sum(pattern2*pattern2, 1).reshape(size2[0],1)\n",
    "\n",
    "    Q = np.tile(G, (1, size2[0]))\n",
    "    R = np.tile(H.T, (size1[0], 1))\n",
    "\n",
    "    H = Q + R - 2* np.dot(pattern1, pattern2.T)\n",
    "\n",
    "    H = np.exp(-H/2/(deg**2))\n",
    "\n",
    "    return H\n",
    "\n",
    "\n",
    "def hsic_gam(X, Y, alph = 0.5):\n",
    "    \"\"\"\n",
    "    X, Y are numpy vectors with row - sample, col - dim\n",
    "    alph is the significance level\n",
    "    auto choose median to be the kernel width\n",
    "    \"\"\"\n",
    "    n = X.shape[0]\n",
    "\n",
    "    # ----- width of X -----\n",
    "    Xmed = X\n",
    "\n",
    "    G = np.sum(Xmed*Xmed, 1).reshape(n,1)\n",
    "    Q = np.tile(G, (1, n) )\n",
    "    R = np.tile(G.T, (n, 1) )\n",
    "\n",
    "    dists = Q + R - 2* np.dot(Xmed, Xmed.T)\n",
    "    dists = dists - np.tril(dists)\n",
    "    dists = dists.reshape(n**2, 1)\n",
    "\n",
    "    width_x = np.sqrt( 0.5 * np.median(dists[dists>0]) )\n",
    "    # ----- -----\n",
    "\n",
    "    # ----- width of X -----\n",
    "    Ymed = Y\n",
    "\n",
    "    G = np.sum(Ymed*Ymed, 1).reshape(n,1)\n",
    "    Q = np.tile(G, (1, n) )\n",
    "    R = np.tile(G.T, (n, 1) )\n",
    "\n",
    "    dists = Q + R - 2* np.dot(Ymed, Ymed.T)\n",
    "    dists = dists - np.tril(dists)\n",
    "    dists = dists.reshape(n**2, 1)\n",
    "\n",
    "    width_y = np.sqrt( 0.5 * np.median(dists[dists>0]) )\n",
    "    # ----- -----\n",
    "\n",
    "    bone = np.ones((n, 1), dtype = float)\n",
    "    H = np.identity(n) - np.ones((n,n), dtype = float) / n\n",
    "\n",
    "    K = rbf_dot(X, X, width_x)\n",
    "    L = rbf_dot(Y, Y, width_y)\n",
    "\n",
    "    Kc = np.dot(np.dot(H, K), H)\n",
    "    Lc = np.dot(np.dot(H, L), H)\n",
    "\n",
    "    testStat = np.sum(Kc.T * Lc) / n\n",
    "\n",
    "    varHSIC = (Kc * Lc / 6)**2\n",
    "\n",
    "    varHSIC = ( np.sum(varHSIC) - np.trace(varHSIC) ) / n / (n-1)\n",
    "\n",
    "    varHSIC = varHSIC * 72 * (n-4) * (n-5) / n / (n-1) / (n-2) / (n-3)\n",
    "\n",
    "    K = K - np.diag(np.diag(K))\n",
    "    L = L - np.diag(np.diag(L))\n",
    "\n",
    "    muX = np.dot(np.dot(bone.T, K), bone) / n / (n-1)\n",
    "    muY = np.dot(np.dot(bone.T, L), bone) / n / (n-1)\n",
    "\n",
    "    mHSIC = (1 + muX * muY - muX - muY) / n\n",
    "\n",
    "    al = mHSIC**2 / varHSIC\n",
    "    bet = varHSIC*n / mHSIC\n",
    "\n",
    "    thresh = gamma.ppf(1-alph, al, scale=bet)[0][0]\n",
    "\n",
    "    return (testStat, thresh)\n"
   ]
  },
  {
   "cell_type": "code",
   "execution_count": 73,
   "metadata": {},
   "outputs": [
    {
     "data": {
      "text/plain": [
       "(0.1903333274750292, 0.3047392764853827)"
      ]
     },
     "execution_count": 73,
     "metadata": {},
     "output_type": "execute_result"
    }
   ],
   "source": [
    "hsic_gam(X.reshape(len(X), 1), Y.reshape(len(Y), 1))"
   ]
  },
  {
   "cell_type": "code",
   "execution_count": 74,
   "metadata": {},
   "outputs": [
    {
     "data": {
      "text/plain": [
       "1.31073531165721"
      ]
     },
     "execution_count": 74,
     "metadata": {},
     "output_type": "execute_result"
    }
   ],
   "source": [
    "0.39944397757622274/0.3047480097802441"
   ]
  },
  {
   "cell_type": "code",
   "execution_count": 75,
   "metadata": {},
   "outputs": [
    {
     "name": "stdout",
     "output_type": "stream",
     "text": [
      "[1, 1, 1, 2, 2, 2, 3, 3, 3]\n"
     ]
    },
    {
     "data": {
      "text/plain": [
       "array([1, 1, 1, 2, 2, 2, 3, 3, 3, 1, 1, 1, 2, 2, 2, 3, 3, 3, 1, 1, 1, 2,\n",
       "       2, 2, 3, 3, 3])"
      ]
     },
     "execution_count": 75,
     "metadata": {},
     "output_type": "execute_result"
    }
   ],
   "source": [
    "A=[1,1,1,2,2,2,3,3,3]\n",
    "print(A)\n",
    "np.tile(A, 3)"
   ]
  },
  {
   "cell_type": "code",
   "execution_count": 76,
   "metadata": {},
   "outputs": [
    {
     "ename": "TypeError",
     "evalue": "can't multiply sequence by non-int of type 'list'",
     "output_type": "error",
     "traceback": [
      "\u001b[1;31m---------------------------------------------------------------------------\u001b[0m",
      "\u001b[1;31mTypeError\u001b[0m                                 Traceback (most recent call last)",
      "\u001b[1;32m<ipython-input-76-bac2e3c28df1>\u001b[0m in \u001b[0;36m<module>\u001b[1;34m\u001b[0m\n\u001b[1;32m----> 1\u001b[1;33m \u001b[0mnp\u001b[0m\u001b[1;33m.\u001b[0m\u001b[0msum\u001b[0m\u001b[1;33m(\u001b[0m\u001b[0mA\u001b[0m\u001b[1;33m*\u001b[0m\u001b[0mA\u001b[0m\u001b[1;33m,\u001b[0m \u001b[1;36m1\u001b[0m\u001b[1;33m)\u001b[0m\u001b[1;33m\u001b[0m\u001b[1;33m\u001b[0m\u001b[0m\n\u001b[0m",
      "\u001b[1;31mTypeError\u001b[0m: can't multiply sequence by non-int of type 'list'"
     ]
    }
   ],
   "source": [
    "np.sum(A*A, 1)"
   ]
  },
  {
   "cell_type": "code",
   "execution_count": 87,
   "metadata": {},
   "outputs": [
    {
     "data": {
      "text/plain": [
       "Text(0, 0.5, 'x7')"
      ]
     },
     "execution_count": 87,
     "metadata": {},
     "output_type": "execute_result"
    },
    {
     "data": {
      "image/png": "[encoded data removed]",
      "text/plain": [
       "<Figure size 1440x576 with 4 Axes>"
      ]
     },
     "metadata": {
      "needs_background": "light"
     },
     "output_type": "display_data"
    }
   ],
   "source": [
    "import numpy as np\n",
    "import csv\n",
    "import pandas as pd\n",
    "\n",
    "size = 100\n",
    "np.random.seed(123)\n",
    "x1 = np.random.uniform(size=size, low=-1.5, high=1.5)\n",
    "x2 = np.random.laplace(size=size)\n",
    "x3 = np.random.normal(0,1, size=size)\n",
    "x4 = 2*x1\n",
    "x5 = np.sin(x1)\n",
    "x6 = np.power(x1,2)\n",
    "x7 = x3+x3\n",
    "\n",
    "xs = np.array([x1,x2,x3,x4,x5,x6, x7]).T\n",
    "\n",
    "X = pd.DataFrame(np.array([x1, x2, x3,x4,x5,x6,x7]).T,columns=[\"x1\", \"x2\", \"x3\", \"x4\", \"x5\", \"x6\", \"x7\"])\n",
    "X.head()\n",
    "X.to_csv('HSIC_test.csv', index=False)\n",
    "\n",
    "#import matplotlib.pyplot as plt\n",
    "#plt.hist(x1, bins=100)\n",
    "#plt.hist(x2, bins=100)\n",
    "#plt.hist(x3, bins=100)\n",
    "#plt.hist(x4, bins=100)\n",
    "\n",
    "import matplotlib.pyplot as plt\n",
    "fig = plt.figure(figsize=(20,8))\n",
    "plt1 = fig.add_subplot(1, 4, 1)\n",
    "plt2 = fig.add_subplot(1, 4, 2)\n",
    "plt3 = fig.add_subplot(1, 4, 3)\n",
    "plt4 = fig.add_subplot(1, 4, 4)\n",
    "#plt5 = fig.add_subplot(1, 5, 5)\n",
    "\n",
    "plt1.scatter(x1[1:300], x4[1:300])\n",
    "plt1.set_xlabel('x1')\n",
    "plt1.set_ylabel('x4')\n",
    "\n",
    "plt2.scatter(x1[1:300], x5[1:300])\n",
    "plt2.set_xlabel('x1')\n",
    "plt2.set_ylabel('x5')\n",
    "\n",
    "plt3.scatter(x1[1:300], x6[1:300])\n",
    "plt3.set_xlabel('x1')\n",
    "plt3.set_ylabel('x6')\n",
    "\n",
    "plt4.scatter(x3[1:300], x7[1:300])\n",
    "plt4.set_xlabel('x3')\n",
    "plt4.set_ylabel('x7')"
   ]
  },
  {
   "cell_type": "code",
   "execution_count": 88,
   "metadata": {},
   "outputs": [
    {
     "name": "stdout",
     "output_type": "stream",
     "text": [
      "0.0733025909550683\n",
      "0.051922419850027185\n",
      "0.013969032701374366\n",
      "0.059147311617138855\n"
     ]
    }
   ],
   "source": [
    "print(HSIC(x1.reshape(size,1),x4.reshape(size,1)))\n",
    "print(HSIC(x1.reshape(size,1),x5.reshape(size,1)))\n",
    "print(HSIC(x1.reshape(size,1),x6.reshape(size,1)))\n",
    "print(HSIC(x3.reshape(size,1),x7.reshape(size,1)))"
   ]
  },
  {
   "cell_type": "code",
   "execution_count": 89,
   "metadata": {},
   "outputs": [
    {
     "name": "stdout",
     "output_type": "stream",
     "text": [
      "0.0008114332299933278\n",
      "0.0031962155590183013\n",
      "0.0011640889692776273\n"
     ]
    }
   ],
   "source": [
    "print(HSIC(x1.reshape(size,1),x2.reshape(size,1)))\n",
    "print(HSIC(x2.reshape(size,1),x3.reshape(size,1)))\n",
    "print(HSIC(x1.reshape(size,1),x3.reshape(size,1)))"
   ]
  },
  {
   "cell_type": "code",
   "execution_count": null,
   "metadata": {},
   "outputs": [],
   "source": []
  }
 ],
 "metadata": {
  "kernelspec": {
   "display_name": "Python 3",
   "language": "python",
   "name": "python3"
  },
  "language_info": {
   "codemirror_mode": {
    "name": "ipython",
    "version": 3
   },
   "file_extension": ".py",
   "mimetype": "text/x-python",
   "name": "python",
   "nbconvert_exporter": "python",
   "pygments_lexer": "ipython3",
   "version": "3.7.3"
  }
 },
 "nbformat": 4,
 "nbformat_minor": 2
}
