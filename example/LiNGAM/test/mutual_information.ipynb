{
 "cells": [
  {
   "cell_type": "code",
   "execution_count": 137,
   "metadata": {},
   "outputs": [
    {
     "name": "stdout",
     "output_type": "stream",
     "text": [
      "[12, 3, 4, 5, 6, 12, 1, 3, 4, 8, 4, 2, 3, 9, 8, 5, 23, 8, 5, 8, 3, 4, 5, 9, 0, 3, 9, -10, 5, 9, 3, 4, 0, 6, 3, 2, 3, 8, 7, 7, 2, 6, 2, 4, 8, 2, 3, 8, 7, 2, 3, 8, 4, 2, 9, 0]\n",
      "[ 1  0  0  0  0  0  0  0  0  3  8 10  7  5  3  3  8  5  0  0  2  0  0  0\n",
      "  0  0  0  0  0  1]\n",
      "56\n",
      "1.0999999999999996\n",
      "61.59999999999998\n"
     ]
    }
   ],
   "source": [
    "def mutual_information(X, Y, bins=10):\n",
    "    # 同時確率分布p(x,y)の計算\n",
    "    p_xy, xedges, yedges = np.histogram2d(X, Y, bins=bins, density=True)\n",
    "\n",
    "    # p(x)p(y)の計算\n",
    "    p_x, _ = np.histogram(X, bins=xedges, density=True)\n",
    "    p_y, _ = np.histogram(Y, bins=yedges, density=True)\n",
    "    p_x_y = p_x[:, np.newaxis] * p_y+0.001\n",
    "\n",
    "    # dx と dy\n",
    "    dx = xedges[1] - xedges[0]\n",
    "    dy = yedges[1] - yedges[0]\n",
    "\n",
    "    # 積分の要素\n",
    "    elem = p_xy * np.ma.log(p_xy / p_x_y)\n",
    "    # 相互情報量とp(x, y), p(x)p(y)を出力\n",
    "    return np.sum(elem * dx * dy), p_xy, p_x_y\n",
    "\n",
    "import numpy as np\n",
    "\n",
    "#N = 1000\n",
    "#X = np.random.normal(loc=0, scale=1, size=N)\n",
    "X=[12,3,4,5,6,12,1,3,4,8,4,2,3,9,8,5,23,8,5,8,3,4,5,9,0,3,9,-10,5,9,3,4,0,6,3,2,3,8,7,7,2,6,2,4,8,2,3,8,7,2,3,8,4,2,9,0]\n",
    "np.savetxt(\"X1.csv\",            # ファイル名\n",
    "           X=X,                  # 保存したい配列\n",
    "           delimiter=\",\"            # 区切り文字\n",
    ")\n",
    "print(X)\n",
    "p_x, edges = np.histogram(X, bins=30, density=False)\n",
    "\n",
    "print(p_x)\n",
    "# 何も考えずに確率密度の和を取った場合，当然1にはならない\n",
    "print(np.sum(p_x))  # 出力例: 1.580769264599771\n",
    "\n",
    "# ビン幅を考慮して和を取ると1になる\n",
    "dx = edges[1] - edges[0]\n",
    "print(dx)\n",
    "print(np.sum(p_x * dx))  # 出力例: 1.0000000000000002\n"
   ]
  },
  {
   "cell_type": "code",
   "execution_count": 138,
   "metadata": {},
   "outputs": [
    {
     "name": "stdout",
     "output_type": "stream",
     "text": [
      "[117  49  39  33  29  28  26  24  24  22  23  21  22  21  22  22  21  22\n",
      "  21  23  22  24  24  26  28  29  33  39  49 117]\n",
      "[118  48  42  30  30  30  24  24  24  24  18  24  24  18  24  18  24  18\n",
      "  24  24  24  18  30  24  24  30  36  36  54 114]\n",
      "dx\n",
      "0.06666658425523986\n",
      "1.0000000000000004\n",
      "1.0\n",
      "1.0677237230456607\n"
     ]
    }
   ],
   "source": [
    "import matplotlib.pyplot as plt\n",
    "import pandas as pd\n",
    "\n",
    "# sin波とcos波\n",
    "t = np.linspace(-5, 5, num=1000)\n",
    "X = np.sin(2 * np.pi * t)\n",
    "Y = np.cos(3 * np.pi * t)\n",
    "#X=[12,3,4,5,6,12,1,3,4,8,4,2,3,9,8,5,23,8,5,8,3,4,5,9,0,3,9,-10,5,9,3,4,0,6,3,2,3,8,7,7,2,6,2,4,8,2,3,8,7,2,3,8,4,2,9,0]\n",
    "#Y=[12,3,4,5,6,12,1,3,4,8,4,2,3,9,8,5,23,8,5,8,3,4,5,9,0,3,9,-10,5,9,3,4,0,6,3,2,3,8,7,7,2,6,2,4,8,2,3,8,7,2,3,8,4,2,9,0]\n",
    "\n",
    "np.savetxt(\"X.csv\",            # ファイル名\n",
    "           X=X,                  # 保存したい配列\n",
    "           delimiter=\",\"            # 区切り文字\n",
    ")\n",
    "\n",
    "np.savetxt(\"Y.csv\",            # ファイル名\n",
    "           X=Y,                  # 保存したい配列\n",
    "           delimiter=\",\"            # 区切り文字\n",
    ")\n",
    "p_x, edges1  = np.histogram(X, bins=30, density=True)\n",
    "p_y, edges2 = np.histogram(Y, bins=30, density=True)\n",
    "np.savetxt(\"p_x.csv\",            # ファイル名\n",
    "           X=p_x,                  # 保存したい配列\n",
    "           delimiter=\",\"            # 区切り文字\n",
    ")\n",
    "np.savetxt(\"p_y.csv\",            # ファイル名\n",
    "           X=p_y,                  # 保存したい配列\n",
    "           delimiter=\",\"            # 区切り文字\n",
    ")\n",
    "tmp, _  = np.histogram(X, bins=30, density=False)\n",
    "print(tmp)\n",
    "tmp, _  = np.histogram(Y, bins=30, density=False)\n",
    "print(tmp)\n",
    "\n",
    "dx = edges1[1] - edges1[0]\n",
    "dy = edges2[1] - edges2[0]\n",
    "\n",
    "print(\"dx\")\n",
    "print(dx)\n",
    "print(np.sum(p_x * dx))\n",
    "print(np.sum(p_y * dy))\n",
    "\n",
    "\n",
    "# 相互情報量の計算\n",
    "mi, p_xy, p_x_y = mutual_information(X, Y, bins=30)\n",
    "print(mi)\n",
    "#print(np.sum(p_x_y * dx*dy))\n",
    "#print(np.sum(p_xy * dx*dy))\n",
    "\n"
   ]
  },
  {
   "cell_type": "code",
   "execution_count": 139,
   "metadata": {},
   "outputs": [],
   "source": [
    "import pandas as pd\n",
    "import numpy as np\n",
    "def normalize(x):\n",
    "    return (x - np.mean(x)) / np.std(x)\n",
    "\n",
    "def _entropy(u):\n",
    "        \"\"\"Calculate entropy using the maximum entropy approximations.\"\"\"\n",
    "        k1 = 79.047\n",
    "        k2 = 7.4129\n",
    "        gamma = 0.37457\n",
    "        return (1 + np.log(2 * np.pi)) / 2 - \\\n",
    "            k1 * (np.mean(np.log(np.cosh(u))) - gamma)**2 - \\\n",
    "            k2 * (np.mean(u * np.exp((-u**2.) / 2.)))**2\n",
    "    \n",
    "def _exp_func(x):\n",
    "        return x*np.exp((-x**2.0)/2.0)\n",
    "\n",
    "    #approximation of gaussian_entropy\n",
    "def _H_v(self):\n",
    "    return (1/2)*(1+np.log(2*np.pi))    \n",
    "def entropy(u):\n",
    "    Hv = (1 + np.log(2 * np.pi)) / 2\n",
    "    k1 = 79.047\n",
    "    k2 = 7.4129\n",
    "    gamma = 0.37457\n",
    "    return Hv - k1*(np.mean(np.log(np.cosh(u))) - gamma)**2 \\\n",
    "        - k2 * (np.mean(u * np.exp(-1. * u**2. /2.)))**2\n",
    "    "
   ]
  },
  {
   "cell_type": "code",
   "execution_count": 140,
   "metadata": {},
   "outputs": [
    {
     "name": "stdout",
     "output_type": "stream",
     "text": [
      "-0.36711981016941125\n",
      "1.0677237230456607\n"
     ]
    }
   ],
   "source": [
    "X=np.array([12,3,4,5,6,12,1,3,4,8,4,2,3,9,8,5,23,8,5,8,3,4,5,9,0,3,9,-10,5,9,3,4,0,6,3,2,3,8,7,7,2,6,2,4,8,2,3,8,7,2,3,8,4,2,9,0])\n",
    "t = np.linspace(-5, 5, num=1000)\n",
    "X = np.sin(2 * np.pi * t)\n",
    "Y = np.cos(3 * np.pi * t)\n",
    "\n",
    "X = np.random.normal(size=1000)\n",
    "Y = np.random.normal(size=1000)\n",
    "\n",
    "#X=np.array([12,3,4,5,6,12,1,3,4,8,4,2,3,9,8,5,23,8,5,8,3,4,5,9,0,3,9,-10,5,9,3,4,0,6,3,2,3,8,7,7,2,6,2,4,8,2,3,8,7,2,3,8,4,2,9,0])\n",
    "#Y=np.array([12,3,4,5,6,12,1,3,4,8,4,2,3,9,8,5,23,8,5,8,3,4,5,9,0,3,9,-10,5,9,3,4,0,6,3,2,3,8,7,7,2,6,2,4,8,2,3,8,7,2,3,8,4,2,9,0])\n",
    "\n",
    "np.savetxt(\"X.csv\",            # ファイル名\n",
    "           X=X,                  # 保存したい配列\n",
    "           delimiter=\",\"            # 区切り文字\n",
    ")\n",
    "\n",
    "np.savetxt(\"Y.csv\",            # ファイル名\n",
    "           X=Y,                  # 保存したい配列\n",
    "           delimiter=\",\"            # 区切り文字\n",
    ")\n",
    "Z = np.array([X,Y])\n",
    "Z = np.vstack((X,Y))\n",
    "#N = 1000\n",
    "#X = normalize(X)\n",
    "#Y = normalize(Y)\n",
    "#Z = normalize(Z)\n",
    "#print(X)\n",
    "#X=[12,3,4,5,6,12,1,3,4,8,4,2,3,9,8,5,23,8,5,8,3,4,5,9,0,3,9,-10,5,9,3,4,0,6,3,2,3,8,7,7,2,6,2,4,8,2,3,8,7,2,3,8,4,2,9,0]\n",
    "\n",
    "\n",
    "print((entropy(X)+entropy(Y)-entropy(Z)))\n",
    "mi, _, _= mutual_information(X, Y, bins=30)\n",
    "print(mi)"
   ]
  },
  {
   "cell_type": "code",
   "execution_count": 141,
   "metadata": {},
   "outputs": [],
   "source": [
    "def _mutual_information( x1, x2, param):\n",
    "        \"\"\"Calculate the mutual informations.\"\"\"\n",
    "        kappa, sigma = param\n",
    "        n = len(x1)\n",
    "        X1 = np.tile(x1, (n, 1))\n",
    "        K1 = np.exp(-1/(2*sigma**2) * (X1**2 + X1.T**2 - 2*X1*X1.T))\n",
    "        X2 = np.tile(x2, (n, 1))\n",
    "        K2 = np.exp(-1/(2*sigma**2) * (X2**2 + X2.T**2 - 2*X2*X2.T))\n",
    "\n",
    "        tmp1 = K1 + n*kappa*np.identity(n)/2\n",
    "        tmp2 = K2 + n*kappa*np.identity(n)/2\n",
    "        K_kappa = np.r_[np.c_[tmp1 @ tmp1, K1 @ K2],\n",
    "                        np.c_[K2 @ K1, tmp2 @ tmp2]]\n",
    "        D_kappa = np.r_[np.c_[tmp1 @ tmp1, np.zeros([n, n])],\n",
    "                        np.c_[np.zeros([n, n]), tmp2 @ tmp2]]\n",
    "\n",
    "        sigma_K = np.linalg.svd(K_kappa, compute_uv=False)\n",
    "        sigma_D = np.linalg.svd(D_kappa, compute_uv=False)\n",
    "\n",
    "        return (-1/2)*(np.sum(np.log(sigma_K)) - np.sum(np.log(sigma_D)))"
   ]
  },
  {
   "cell_type": "code",
   "execution_count": 142,
   "metadata": {},
   "outputs": [],
   "source": [
    "param = [2e-3, 0.5]\n",
    "#mi= _mutual_information(X, Y, param)\n",
    "#print(mi)"
   ]
  },
  {
   "cell_type": "code",
   "execution_count": 143,
   "metadata": {},
   "outputs": [
    {
     "name": "stdout",
     "output_type": "stream",
     "text": [
      "7.412888581800331\n",
      "11.09376995889657\n",
      "33.66942333606287\n",
      "0.7978845608028654\n",
      "0.7071067811865476\n"
     ]
    }
   ],
   "source": [
    "print(36/(8*np.sqrt(3)-9))\n",
    "print(1/(2-6/np.pi))\n",
    "print(24/(16*np.sqrt(3)-27))\n",
    "print(np.sqrt(2/np.pi))\n",
    "print(np.sqrt(1/2))"
   ]
  },
  {
   "cell_type": "code",
   "execution_count": 144,
   "metadata": {},
   "outputs": [],
   "source": [
    "def entropy2(u):\n",
    "    Hv = (1 + np.log(2 * np.pi)) / 2\n",
    "    k2 = 33.6694233\n",
    "    k1 = 7.4129\n",
    "    gamma = 0.79788456\n",
    "    return Hv - k2*(np.mean(np.exp(-1. * u**2. /2.)) - gamma)**2 \\\n",
    "        - k1 * (np.mean(u * np.exp(-1. * u**2. /2.)))**2"
   ]
  },
  {
   "cell_type": "code",
   "execution_count": null,
   "metadata": {},
   "outputs": [],
   "source": []
  },
  {
   "cell_type": "code",
   "execution_count": 145,
   "metadata": {},
   "outputs": [],
   "source": [
    "def entropy3(u):\n",
    "    Hv = (1 + np.log(2 * np.pi)) / 2\n",
    "    k2 = 33.6694233\n",
    "    k1 = 7.4129\n",
    "    gamma = 0.7071067811\n",
    "    return Hv - k2*(np.mean(np.abs(u)) - gamma)**2 \\\n",
    "        - k1 * (np.mean(u * np.exp(-1. * u**2. /2.)))**2"
   ]
  },
  {
   "cell_type": "code",
   "execution_count": null,
   "metadata": {},
   "outputs": [],
   "source": []
  },
  {
   "cell_type": "code",
   "execution_count": 146,
   "metadata": {},
   "outputs": [],
   "source": [
    "from sklearn.metrics import mutual_info_score\n",
    "\n",
    "def calc_MI(x, y, bins):\n",
    "    c_xy = np.histogram2d(x, y, bins)[0]\n",
    "    mi = mutual_info_score(None, None, contingency=c_xy)\n",
    "    return mi"
   ]
  },
  {
   "cell_type": "code",
   "execution_count": 149,
   "metadata": {},
   "outputs": [
    {
     "name": "stdout",
     "output_type": "stream",
     "text": [
      "-0.36711981016941125\n",
      "-0.36711981016941125\n",
      "1.4173516517840683\n",
      "1.250991039677715\n",
      "1.0677237230456607\n",
      "1.071707885207989\n"
     ]
    }
   ],
   "source": [
    "t = np.linspace(-5, 5, num=1000)\n",
    "X = np.sin(2 * np.pi * t)\n",
    "Y = np.cos(3 * np.pi * t)\n",
    "\n",
    "bins = 30\n",
    "print((_entropy(X)+_entropy(Y)-_entropy(Z)))\n",
    "print((entropy(X)+entropy(Y)-entropy(Z)))\n",
    "print((entropy2(X)+entropy2(Y)-entropy2(Z)))\n",
    "print((entropy3(X)+entropy3(Y)-entropy3(Z)))\n",
    "mi, _, _= mutual_information(X, Y, bins=bins)\n",
    "print(mi)\n",
    "print(calc_MI(X,Y,bins))"
   ]
  },
  {
   "cell_type": "code",
   "execution_count": 148,
   "metadata": {},
   "outputs": [
    {
     "name": "stdout",
     "output_type": "stream",
     "text": [
      "3.190271271852138\n",
      "3.190271271852138\n",
      "0.9384934179992734\n",
      "1.1686885819431632\n",
      "0.22947302663445573\n",
      "0.2639741750935642\n"
     ]
    }
   ],
   "source": [
    "X = np.random.normal(size=1000)\n",
    "Y = np.random.normal(size=1000)\n",
    "\n",
    "#X=np.array([12,3,4,5,6,12,1,3,4,8,4,2,3,9,8,5,23,8,5,8,3,4,5,9,0,3,9,-10,5,9,3,4,0,6,3,2,3,8,7,7,2,6,2,4,8,2,3,8,7,2,3,8,4,2,9,0])\n",
    "#Y=np.array([12,3,4,5,6,12,1,3,4,8,4,2,3,9,8,5,23,8,5,8,3,4,5,9,0,3,9,-10,5,9,3,4,0,6,3,2,3,8,7,7,2,6,2,4,8,2,3,8,7,2,3,8,4,2,9,0])\n",
    "bins = 30\n",
    "print((_entropy(X)+_entropy(Y)-_entropy(Z)))\n",
    "print((entropy(X)+entropy(Y)-entropy(Z)))\n",
    "print((entropy2(X)+entropy2(Y)-entropy2(Z)))\n",
    "print((entropy3(X)+entropy3(Y)-entropy3(Z)))\n",
    "mi, _, _= mutual_information(X, Y, bins=bins)\n",
    "print(mi)\n",
    "print(calc_MI(X,Y,bins))"
   ]
  },
  {
   "cell_type": "code",
   "execution_count": 150,
   "metadata": {},
   "outputs": [
    {
     "name": "stdout",
     "output_type": "stream",
     "text": [
      "-3036.9134420053115\n",
      "-3036.9134420053115\n",
      "-32.998669884736294\n",
      "-1488.250864918648\n",
      "2.0940821410073154\n",
      "2.288093284955169\n"
     ]
    }
   ],
   "source": [
    "X=np.array([12,3,4,5,6,12,1,3,4,8,4,2,3,9,8,5,23,8,5,8,3,4,5,9,0,3,9,-10,5,9,3,4,0,6,3,2,3,8,7,7,2,6,2,4,8,2,3,8,7,2,3,8,4,2,9,0])\n",
    "Y=np.array([12,3,4,5,6,12,1,3,4,8,4,2,3,9,8,5,23,8,5,8,3,4,5,9,0,3,9,-10,5,9,3,4,0,6,3,2,3,8,7,7,2,6,2,4,8,2,3,8,7,2,3,8,4,2,9,0])\n",
    "bins = 30\n",
    "print((_entropy(X)+_entropy(Y)-_entropy(Z)))\n",
    "print((entropy(X)+entropy(Y)-entropy(Z)))\n",
    "print((entropy2(X)+entropy2(Y)-entropy2(Z)))\n",
    "print((entropy3(X)+entropy3(Y)-entropy3(Z)))\n",
    "mi, _, _= mutual_information(X, Y, bins=bins)\n",
    "print(mi)\n",
    "print(calc_MI(X,Y,bins))"
   ]
  },
  {
   "cell_type": "code",
   "execution_count": null,
   "metadata": {},
   "outputs": [],
   "source": []
  }
 ],
 "metadata": {
  "kernelspec": {
   "display_name": "Python 3",
   "language": "python",
   "name": "python3"
  },
  "language_info": {
   "codemirror_mode": {
    "name": "ipython",
    "version": 3
   },
   "file_extension": ".py",
   "mimetype": "text/x-python",
   "name": "python",
   "nbconvert_exporter": "python",
   "pygments_lexer": "ipython3",
   "version": "3.7.3"
  }
 },
 "nbformat": 4,
 "nbformat_minor": 2
}
