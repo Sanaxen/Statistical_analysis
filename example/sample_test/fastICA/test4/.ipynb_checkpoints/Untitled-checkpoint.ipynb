{
 "cells": [
  {
   "cell_type": "code",
   "execution_count": 2,
   "metadata": {
    "collapsed": true
   },
   "outputs": [],
   "source": [
    "import numpy as np\n",
    "import scipy.io.wavfile as wf\n",
    "\n",
    "rate1, data1 = wf.read('g_03.wav')\n",
    "rate2, data2 = wf.read('g_22.wav')\n",
    "rate3, data3 = wf.read('g_23.wav')\n",
    "if rate1 != rate2 or rate2 != rate3:\n",
    "    raise ValueError('Sampling_rate_Error')"
   ]
  },
  {
   "cell_type": "code",
   "execution_count": 3,
   "metadata": {
    "collapsed": true
   },
   "outputs": [],
   "source": [
    "mix_1 = data1 * 0.6 + data2 * 0.3 + data3 * 0.1\n",
    "mix_2 = data1 * 0.3 + data2 * 0.2 + data3 * 0.5\n",
    "mix_3 = data1 * 0.1 + data2 * 0.5 + data3 * 0.4\n",
    "y = [mix_1, mix_2, mix_3]\n",
    "y = [(y_i * 32767 / max(np.absolute(y_i))).astype(np.int16) for y_i in np.asarray(y)]\n",
    "\n",
    "wf.write('mix_1.wav', rate1, y[0])\n",
    "wf.write('mix_2.wav', rate2, y[1])\n",
    "wf.write('mix_3.wav', rate3, y[2])"
   ]
  },
  {
   "cell_type": "code",
   "execution_count": 4,
   "metadata": {},
   "outputs": [
    {
     "data": {
      "text/plain": [
       "array([  0. ,   0. ,   0. , ..., -81.5, -40.8, -20.8])"
      ]
     },
     "execution_count": 4,
     "metadata": {},
     "output_type": "execute_result"
    }
   ],
   "source": [
    "mix_1"
   ]
  },
  {
   "cell_type": "code",
   "execution_count": 5,
   "metadata": {
    "collapsed": true
   },
   "outputs": [],
   "source": [
    "import csv\n",
    "\n",
    "f = open('mix_1.csv', 'w')\n",
    "writer = csv.writer(f, lineterminator='\\n')\n",
    "writer.writerow(mix_1)\n",
    "f.close()\n",
    "\n",
    "f = open('mix_2.csv', 'w')\n",
    "writer = csv.writer(f, lineterminator='\\n')\n",
    "writer.writerow(mix_2)\n",
    "f.close()\n",
    "\n",
    "f = open('mix_3.csv', 'w')\n",
    "writer = csv.writer(f, lineterminator='\\n')\n",
    "writer.writerow(mix_3)\n",
    "f.close()"
   ]
  },
  {
   "cell_type": "code",
   "execution_count": 6,
   "metadata": {
    "collapsed": true
   },
   "outputs": [],
   "source": [
    "import numpy as np\n",
    "data1 = np.loadtxt('mix_1.csv', delimiter=',', dtype='float')\n",
    "data2 = np.loadtxt('mix_2.csv', delimiter=',', dtype='float')\n",
    "data3 = np.loadtxt('mix_3.csv', delimiter=',', dtype='float')\n"
   ]
  },
  {
   "cell_type": "code",
   "execution_count": 7,
   "metadata": {
    "collapsed": true
   },
   "outputs": [],
   "source": [
    "y = [data1, data2, data3]\n",
    "y = [(y_i * 32767 / max(np.absolute(y_i))).astype(np.int16) for y_i in np.asarray(y)]\n",
    "\n",
    "wf.write('data1.wav', rate1, y[0])\n",
    "wf.write('data2.wav', rate2, y[1])\n",
    "wf.write('data3.wav', rate3, y[2])"
   ]
  },
  {
   "cell_type": "code",
   "execution_count": null,
   "metadata": {
    "collapsed": true
   },
   "outputs": [],
   "source": []
  }
 ],
 "metadata": {
  "kernelspec": {
   "display_name": "Python 3",
   "language": "python",
   "name": "python3"
  },
  "language_info": {
   "codemirror_mode": {
    "name": "ipython",
    "version": 3
   },
   "file_extension": ".py",
   "mimetype": "text/x-python",
   "name": "python",
   "nbconvert_exporter": "python",
   "pygments_lexer": "ipython3",
   "version": "3.6.1"
  }
 },
 "nbformat": 4,
 "nbformat_minor": 2
}
