{
 "cells": [
  {
   "cell_type": "code",
   "execution_count": 2,
   "metadata": {},
   "outputs": [],
   "source": [
    "import numpy as np\n",
    "import numpy as np\n",
    "import scipy.io.wavfile as wf\n",
    "\n",
    "rate1, data1 = wf.read('loop1.wav')\n",
    "rate2, data2 = wf.read('strings.wav')\n",
    "rate3, data3 = wf.read('fanfare.wav')\n",
    "if rate1 != rate2 or rate2 != rate3:\n",
    "    raise ValueError('Sampling_rate_Error')\n",
    "\n",
    "data1 = np.loadtxt('output1.csv', delimiter=',', dtype='float')\n",
    "data2 = np.loadtxt('output2.csv', delimiter=',', dtype='float')\n",
    "data3 = np.loadtxt('output3.csv', delimiter=',', dtype='float')\n",
    "\n",
    "y = [data1, data2, data3]\n",
    "y = [(y_i * 32767 / max(np.absolute(y_i))).astype(np.int16) for y_i in np.asarray(y)]\n",
    "\n",
    "wf.write('data1.wav', rate1, y[0])\n",
    "wf.write('data2.wav', rate2, y[1])\n",
    "wf.write('data3.wav', rate3, y[2])"
   ]
  },
  {
   "cell_type": "code",
   "execution_count": null,
   "metadata": {
    "collapsed": true
   },
   "outputs": [],
   "source": []
  }
 ],
 "metadata": {
  "kernelspec": {
   "display_name": "Python 3",
   "language": "python",
   "name": "python3"
  },
  "language_info": {
   "codemirror_mode": {
    "name": "ipython",
    "version": 3
   },
   "file_extension": ".py",
   "mimetype": "text/x-python",
   "name": "python",
   "nbconvert_exporter": "python",
   "pygments_lexer": "ipython3",
   "version": "3.6.1"
  }
 },
 "nbformat": 4,
 "nbformat_minor": 2
}
