{
 "cells": [
  {
   "cell_type": "code",
   "execution_count": 2,
   "metadata": {
    "collapsed": true
   },
   "outputs": [],
   "source": [
    "import numpy as np\n",
    "\n",
    "size = 1000\n",
    "np.random.seed(123)\n",
    "x = np.random.uniform(size=size)\n",
    "\n",
    "np.random.seed(456)\n",
    "y = 3*x+ np.random.uniform(size=size)\n",
    "\n",
    "np.random.seed(789)\n",
    "z =  5*y+ np.random.uniform(size=size)\n",
    "\n",
    "np.random.seed(135)\n",
    "w = 2*x + 7*z+np.random.uniform(size=size)\n",
    "\n",
    "xs = np.array([x,y,z,w]).T"
   ]
  },
  {
   "cell_type": "code",
   "execution_count": 3,
   "metadata": {},
   "outputs": [
    {
     "data": {
      "text/plain": [
       "array([[  6.96469186e-01,   2.33816347e+00,   1.20141522e+01,\n",
       "          8.61533324e+01],\n",
       "       [  2.86139335e-01,   1.02148479e+00,   5.33767105e+00,\n",
       "          3.82636707e+01],\n",
       "       [  2.26851454e-01,   1.46419762e+00,   8.11476695e+00,\n",
       "          5.74524697e+01],\n",
       "       ..., \n",
       "       [  3.47146060e-01,   1.66909717e+00,   9.18710623e+00,\n",
       "          6.52045372e+01],\n",
       "       [  4.16848861e-03,   3.86523572e-01,   2.52848875e+00,\n",
       "          1.79734284e+01],\n",
       "       [  2.94894709e-01,   9.23529229e-01,   4.81468494e+00,\n",
       "          3.43320338e+01]])"
      ]
     },
     "execution_count": 3,
     "metadata": {},
     "output_type": "execute_result"
    }
   ],
   "source": [
    "xs"
   ]
  },
  {
   "cell_type": "code",
   "execution_count": 4,
   "metadata": {},
   "outputs": [
    {
     "name": "stdout",
     "output_type": "stream",
     "text": [
      "[[  7.54427732e-03  -5.58044720e-01   1.15814118e-01  -6.66677048e-04]\n",
      " [  1.10236389e-01   2.63830057e-03   1.16463040e-02  -1.69856229e-03]\n",
      " [ -2.22900867e-01  -1.06213195e-02  -7.51532878e-01   1.07695296e-01]\n",
      " [  3.22723819e-01  -1.17694641e-01  -1.42444083e-03   4.66761062e-04]]\n"
     ]
    }
   ],
   "source": [
    "from sklearn.decomposition import FastICA\n",
    "\n",
    "n_samples, n_features = xs.shape\n",
    "ica = FastICA(random_state=1234, max_iter=1000).fit(xs)\n",
    "W_ica = np.linalg.pinv(ica.mixing_)\n",
    "print(W_ica)"
   ]
  },
  {
   "cell_type": "code",
   "execution_count": 5,
   "metadata": {},
   "outputs": [
    {
     "name": "stdout",
     "output_type": "stream",
     "text": [
      "[[  1.32550801e+02   1.79197108e+00   8.63452588e+00   1.49997664e+03]\n",
      " [  9.07141471e+00   3.79031870e+02   8.58641502e+01   5.88733191e+02]\n",
      " [  4.48629928e+00   9.41502609e+01   1.33061378e+00   9.28545664e+00]\n",
      " [  3.09862471e+00   8.49656359e+00   7.02029863e+02   2.14242378e+03]]\n"
     ]
    }
   ],
   "source": [
    "W_ica_ = 1 / np.abs(W_ica) # もちろんこの前に成分が0でないことはチェックする\n",
    "print(W_ica_)"
   ]
  },
  {
   "cell_type": "code",
   "execution_count": 7,
   "metadata": {},
   "outputs": [
    {
     "name": "stdout",
     "output_type": "stream",
     "text": [
      "[[0 2]\n",
      " [1 0]\n",
      " [2 3]\n",
      " [3 1]]\n"
     ]
    }
   ],
   "source": [
    "from copy import deepcopy\n",
    "from munkres import Munkres\n",
    "m = Munkres()\n",
    "ixs = np.vstack(m.compute(deepcopy(W_ica_)))\n",
    "print(ixs)"
   ]
  },
  {
   "cell_type": "code",
   "execution_count": 8,
   "metadata": {},
   "outputs": [
    {
     "name": "stdout",
     "output_type": "stream",
     "text": [
      "[[  1.10236389e-01   2.63830057e-03   1.16463040e-02  -1.69856229e-03]\n",
      " [  3.22723819e-01  -1.17694641e-01  -1.42444083e-03   4.66761062e-04]\n",
      " [  7.54427732e-03  -5.58044720e-01   1.15814118e-01  -6.66677048e-04]\n",
      " [ -2.22900867e-01  -1.06213195e-02  -7.51532878e-01   1.07695296e-01]]\n"
     ]
    }
   ],
   "source": [
    "ixs = ixs[np.argsort(ixs[:, 0]), :]\n",
    "ixs_perm = ixs[:, 1] # ixs_perm = [2 0 3 1]\n",
    "W_ica_perm = np.zeros_like(W_ica)\n",
    "W_ica_perm[ixs_perm] = W_ica\n",
    "print(W_ica_perm)"
   ]
  },
  {
   "cell_type": "code",
   "execution_count": 9,
   "metadata": {},
   "outputs": [
    {
     "name": "stdout",
     "output_type": "stream",
     "text": [
      "[[  1.00000000e+00   2.39331186e-02   1.05648454e-01  -1.54083630e-02]\n",
      " [ -2.74204345e+00   1.00000000e+00   1.21028521e-02  -3.96586504e-03]\n",
      " [  6.51412578e-02  -4.81845158e+00   1.00000000e+00  -5.75644023e-03]\n",
      " [ -2.06973634e+00  -9.86238015e-02  -6.97832595e+00   1.00000000e+00]]\n"
     ]
    }
   ],
   "source": [
    "D = np.diag(W_ica_perm)[:, np.newaxis]\n",
    "W_ica_perm_D = W_ica_perm / D\n",
    "print(W_ica_perm_D)"
   ]
  },
  {
   "cell_type": "code",
   "execution_count": 10,
   "metadata": {},
   "outputs": [
    {
     "name": "stdout",
     "output_type": "stream",
     "text": [
      "[[  0.00000000e+00  -2.39331186e-02  -1.05648454e-01   1.54083630e-02]\n",
      " [  2.74204345e+00   0.00000000e+00  -1.21028521e-02   3.96586504e-03]\n",
      " [ -6.51412578e-02   4.81845158e+00   0.00000000e+00   5.75644023e-03]\n",
      " [  2.06973634e+00   9.86238015e-02   6.97832595e+00   0.00000000e+00]]\n"
     ]
    }
   ],
   "source": [
    "b_est = np.eye(n_features) - W_ica_perm_D\n",
    "print(b_est)"
   ]
  },
  {
   "cell_type": "code",
   "execution_count": 11,
   "metadata": {},
   "outputs": [
    {
     "name": "stdout",
     "output_type": "stream",
     "text": [
      "[[ 0.          0.          0.          0.        ]\n",
      " [ 2.74204345  0.          0.          0.        ]\n",
      " [-0.06514126  4.81845158  0.          0.        ]\n",
      " [ 2.06973634  0.0986238   6.97832595  0.        ]]\n"
     ]
    }
   ],
   "source": [
    "def _slttestperm(b_i):\n",
    "# b_iの行を並び替えて下三角行列にできるかどうかチェック\n",
    "    n = b_i.shape[0]\n",
    "    remnodes = np.arange(n)\n",
    "    b_rem = deepcopy(b_i)\n",
    "    p = list() \n",
    "\n",
    "    for i in range(n):\n",
    "        # 成分が全て0である行番号のリスト\n",
    "        ixs = np.where(np.sum(np.abs(b_rem), axis=1) < 1e-12)[0]\n",
    "\n",
    "        if len(ixs) == 0:\n",
    "            return None\n",
    "        else:\n",
    "            ix = ixs[0]\n",
    "            p.append(remnodes[ix])\n",
    "\n",
    "            #　成分が全て0である行を削除\n",
    "            remnodes = np.hstack((remnodes[:ix], remnodes[(ix + 1):]))\n",
    "            ixs = np.hstack((np.arange(ix), np.arange(ix + 1, len(b_rem))))\n",
    "            b_rem = b_rem[ixs, :]\n",
    "            b_rem = b_rem[:, ixs]\n",
    "\n",
    "    return np.array(p)\n",
    "\n",
    "b = b_est\n",
    "n = b.shape[0]\n",
    "assert(b.shape == (n, n))\n",
    "\n",
    "ixs = np.argsort(np.abs(b).ravel())\n",
    "\n",
    "for i in range(int(n * (n + 1) / 2) - 1, (n * n) - 1):\n",
    "    b_i = deepcopy(b)\n",
    "    b_i.ravel()[ixs[:i]] = 0\n",
    "    ixs_perm = _slttestperm(b_i)\n",
    "    if ixs_perm is not None:\n",
    "        b_opt = deepcopy(b)\n",
    "        b_opt = b_opt[ixs_perm, :]\n",
    "        b_opt = b_opt[:, ixs_perm]\n",
    "        break\n",
    "b_csl = np.tril(b_opt, -1)\n",
    "b_csl[ixs_perm, :] = deepcopy(b_csl)\n",
    "b_csl[:, ixs_perm] = deepcopy(b_csl)\n",
    "print(b_csl)"
   ]
  }
 ],
 "metadata": {
  "kernelspec": {
   "display_name": "Python 3",
   "language": "python",
   "name": "python3"
  },
  "language_info": {
   "codemirror_mode": {
    "name": "ipython",
    "version": 3
   },
   "file_extension": ".py",
   "mimetype": "text/x-python",
   "name": "python",
   "nbconvert_exporter": "python",
   "pygments_lexer": "ipython3",
   "version": "3.6.1"
  }
 },
 "nbformat": 4,
 "nbformat_minor": 2
}
