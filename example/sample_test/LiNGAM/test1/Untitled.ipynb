{
 "cells": [
  {
   "cell_type": "code",
   "execution_count": 14,
   "metadata": {
    "collapsed": true
   },
   "outputs": [],
   "source": [
    "import numpy as np\n",
    "import csv\n",
    "\n",
    "size = 1000\n",
    "np.random.seed(123)\n",
    "x = np.random.uniform(size=size)\n",
    "\n",
    "np.random.seed(456)\n",
    "y = 3*x+ np.random.uniform(size=size)\n",
    "\n",
    "np.random.seed(789)\n",
    "z =  5*y+ np.random.uniform(size=size)\n",
    "\n",
    "np.random.seed(135)\n",
    "w = 2*x + 7*z+np.random.uniform(size=size)\n",
    "\n",
    "xs = np.array([x,y,z,w]).T\n",
    "\n",
    "f = open('x.csv', 'w')\n",
    "writer = csv.writer(f, lineterminator='\\n')\n",
    "writer.writerow(x)\n",
    "f.close()\n",
    "\n",
    "f = open('y.csv', 'w')\n",
    "writer = csv.writer(f, lineterminator='\\n')\n",
    "writer.writerow(y)\n",
    "f.close()\n",
    "\n",
    "f = open('z.csv', 'w')\n",
    "writer = csv.writer(f, lineterminator='\\n')\n",
    "writer.writerow(z)\n",
    "f.close()\n",
    "\n",
    "f = open('w.csv', 'w')\n",
    "writer = csv.writer(f, lineterminator='\\n')\n",
    "writer.writerow(w)\n",
    "f.close()"
   ]
  },
  {
   "cell_type": "code",
   "execution_count": 15,
   "metadata": {},
   "outputs": [
    {
     "data": {
      "text/plain": [
       "array([[  6.96469186e-01,   2.86139335e-01,   2.26851454e-01, ...,\n",
       "          3.47146060e-01,   4.16848861e-03,   2.94894709e-01],\n",
       "       [  2.33816347e+00,   1.02148479e+00,   1.46419762e+00, ...,\n",
       "          1.66909717e+00,   3.86523572e-01,   9.23529229e-01],\n",
       "       [  1.20141522e+01,   5.33767105e+00,   8.11476695e+00, ...,\n",
       "          9.18710623e+00,   2.52848875e+00,   4.81468494e+00],\n",
       "       [  8.61533324e+01,   3.82636707e+01,   5.74524697e+01, ...,\n",
       "          6.52045372e+01,   1.79734284e+01,   3.43320338e+01]])"
      ]
     },
     "execution_count": 15,
     "metadata": {},
     "output_type": "execute_result"
    }
   ],
   "source": [
    "xs.T"
   ]
  },
  {
   "cell_type": "code",
   "execution_count": 16,
   "metadata": {},
   "outputs": [
    {
     "name": "stdout",
     "output_type": "stream",
     "text": [
      "[[ -1.09211979e-01   1.35494671e-01  -9.00871945e+00   6.83168254e-03]\n",
      " [  8.89534894e+00   4.49942767e-01  -2.68706959e+01   1.63807483e-01]\n",
      " [  4.46753284e+01   2.30880090e+00  -1.34418267e+02   9.81792602e+00]\n",
      " [  3.12405515e+02   2.57218317e+01  -9.59316538e+02   6.85413327e+01]]\n",
      "\n",
      "[[ -3.22482215e-01   1.17181741e-01   1.92911730e-03  -5.24239599e-04]\n",
      " [ -2.23139148e-01  -1.06620402e-02  -7.51519189e-01   1.07696049e-01]\n",
      " [ -1.10444337e-01  -2.00421757e-03  -1.12386107e-02   1.62562750e-03]\n",
      " [  7.78640295e-03  -5.58154508e-01   1.15935856e-01  -6.83864213e-04]]\n"
     ]
    }
   ],
   "source": [
    "from sklearn.decomposition import FastICA\n",
    "\n",
    "n_samples, n_features = xs.shape\n",
    "#ica = FastICA(random_state=1234, max_iter=1000).fit(xs)\n",
    "winit=[\n",
    "[0.001251, 0.563585, 0.193304, 0.808741],\n",
    "[0.585009, 0.479873, 0.350291, 0.895962],\n",
    "[0.822840, 0.746605, 0.174108, 0.858943],\n",
    "[0.710501, 0.513535, 0.303995, 0.014985],    \n",
    "]\n",
    "ica = FastICA(w_init=winit, max_iter=1000).fit(xs)\n",
    "print(ica.mixing_)\n",
    "print()\n",
    "W_ica = np.linalg.pinv(ica.mixing_)\n",
    "print(W_ica)"
   ]
  },
  {
   "cell_type": "code",
   "execution_count": 17,
   "metadata": {},
   "outputs": [
    {
     "data": {
      "text/plain": [
       "array([[ -1.09211979e-01,   1.35494671e-01,  -9.00871945e+00,\n",
       "          6.83168254e-03],\n",
       "       [  8.89534894e+00,   4.49942767e-01,  -2.68706959e+01,\n",
       "          1.63807483e-01],\n",
       "       [  4.46753284e+01,   2.30880090e+00,  -1.34418267e+02,\n",
       "          9.81792602e+00],\n",
       "       [  3.12405515e+02,   2.57218317e+01,  -9.59316538e+02,\n",
       "          6.85413327e+01]])"
      ]
     },
     "execution_count": 17,
     "metadata": {},
     "output_type": "execute_result"
    }
   ],
   "source": [
    "ica.mixing_"
   ]
  },
  {
   "cell_type": "code",
   "execution_count": 18,
   "metadata": {},
   "outputs": [
    {
     "name": "stdout",
     "output_type": "stream",
     "text": [
      "[[  3.10094621e+00   8.53375274e+00   5.18371796e+02   1.90752473e+03]\n",
      " [  4.48150855e+00   9.37906802e+01   1.33063801e+00   9.28539169e+00]\n",
      " [  9.05433473e+00   4.98947827e+02   8.89789694e+01   6.15147074e+02]\n",
      " [  1.28429007e+02   1.79161860e+00   8.62545925e+00   1.46227860e+03]]\n"
     ]
    }
   ],
   "source": [
    "W_ica_ = 1 / np.abs(W_ica) # もちろんこの前に成分が0でないことはチェックする\n",
    "print(W_ica_)"
   ]
  },
  {
   "cell_type": "code",
   "execution_count": null,
   "metadata": {
    "collapsed": true
   },
   "outputs": [],
   "source": []
  }
 ],
 "metadata": {
  "kernelspec": {
   "display_name": "Python 3",
   "language": "python",
   "name": "python3"
  },
  "language_info": {
   "codemirror_mode": {
    "name": "ipython",
    "version": 3
   },
   "file_extension": ".py",
   "mimetype": "text/x-python",
   "name": "python",
   "nbconvert_exporter": "python",
   "pygments_lexer": "ipython3",
   "version": "3.6.1"
  }
 },
 "nbformat": 4,
 "nbformat_minor": 2
}
