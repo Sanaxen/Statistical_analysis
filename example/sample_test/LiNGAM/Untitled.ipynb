{
 "cells": [
  {
   "cell_type": "code",
   "execution_count": 106,
   "metadata": {
    "collapsed": true
   },
   "outputs": [],
   "source": [
    "import numpy as np\n",
    "\n",
    "size = 1000\n",
    "np.random.seed(123)\n",
    "x = np.random.uniform(size=size)\n",
    "\n",
    "np.random.seed(456)\n",
    "y = 3*x+ np.random.uniform(size=size)\n",
    "\n",
    "np.random.seed(789)\n",
    "z =  5*y+ np.random.uniform(size=size)\n",
    "\n",
    "np.random.seed(135)\n",
    "w = 2*x + 7*z+np.random.uniform(size=size)\n",
    "\n",
    "#xs = np.array([x,y,z,w]).T\n",
    "xs = np.array([y,z,w,x]).T"
   ]
  },
  {
   "cell_type": "code",
   "execution_count": 107,
   "metadata": {},
   "outputs": [
    {
     "data": {
      "text/plain": [
       "array([[  2.33816347e+00,   1.20141522e+01,   8.61533324e+01,\n",
       "          6.96469186e-01],\n",
       "       [  1.02148479e+00,   5.33767105e+00,   3.82636707e+01,\n",
       "          2.86139335e-01],\n",
       "       [  1.46419762e+00,   8.11476695e+00,   5.74524697e+01,\n",
       "          2.26851454e-01],\n",
       "       ..., \n",
       "       [  1.66909717e+00,   9.18710623e+00,   6.52045372e+01,\n",
       "          3.47146060e-01],\n",
       "       [  3.86523572e-01,   2.52848875e+00,   1.79734284e+01,\n",
       "          4.16848861e-03],\n",
       "       [  9.23529229e-01,   4.81468494e+00,   3.43320338e+01,\n",
       "          2.94894709e-01]])"
      ]
     },
     "execution_count": 107,
     "metadata": {},
     "output_type": "execute_result"
    }
   ],
   "source": [
    "xs"
   ]
  },
  {
   "cell_type": "code",
   "execution_count": 108,
   "metadata": {},
   "outputs": [
    {
     "name": "stdout",
     "output_type": "stream",
     "text": [
      "[[  5.58006057e-01  -1.15809196e-01   6.66050696e-04  -7.39249524e-03]\n",
      " [  2.44834816e-03   1.16880693e-02  -1.69841457e-03   1.10164061e-01]\n",
      " [  1.06093244e-02   7.51532929e-01  -1.07695259e-01   2.22932530e-01]\n",
      " [  1.17882991e-01   1.45524643e-03  -4.76533579e-04  -3.22730159e-01]]\n"
     ]
    }
   ],
   "source": [
    "from sklearn.decomposition import FastICA\n",
    "\n",
    "n_samples, n_features = xs.shape\n",
    "ica = FastICA(random_state=1234, max_iter=1000).fit(xs)\n",
    "W_ica = np.linalg.pinv(ica.mixing_)\n",
    "print(W_ica)"
   ]
  },
  {
   "cell_type": "code",
   "execution_count": 109,
   "metadata": {},
   "outputs": [
    {
     "name": "stdout",
     "output_type": "stream",
     "text": [
      "[[  1.79209524e+00   8.63489288e+00   1.50138722e+03   1.35272322e+02]\n",
      " [  4.08438642e+02   8.55573297e+01   5.88784399e+02   9.07737053e+00]\n",
      " [  9.42567091e+01   1.33061369e+00   9.28545980e+00   4.48566209e+00]\n",
      " [  8.48298800e+00   6.87168841e+02   2.09848801e+03   3.09856384e+00]]\n"
     ]
    }
   ],
   "source": [
    "W_ica_ = 1 / np.abs(W_ica) # もちろんこの前に成分が0でないことはチェックする\n",
    "print(W_ica_)"
   ]
  },
  {
   "cell_type": "code",
   "execution_count": 110,
   "metadata": {},
   "outputs": [
    {
     "name": "stdout",
     "output_type": "stream",
     "text": [
      "[[0 1]\n",
      " [1 3]\n",
      " [2 2]\n",
      " [3 0]]\n"
     ]
    }
   ],
   "source": [
    "from copy import deepcopy\n",
    "from munkres import Munkres\n",
    "m = Munkres()\n",
    "ixs = np.vstack(m.compute(deepcopy(W_ica_)))\n",
    "print(ixs)"
   ]
  },
  {
   "cell_type": "code",
   "execution_count": 111,
   "metadata": {},
   "outputs": [
    {
     "name": "stdout",
     "output_type": "stream",
     "text": [
      "[[  1.17882991e-01   1.45524643e-03  -4.76533579e-04  -3.22730159e-01]\n",
      " [  5.58006057e-01  -1.15809196e-01   6.66050696e-04  -7.39249524e-03]\n",
      " [  1.06093244e-02   7.51532929e-01  -1.07695259e-01   2.22932530e-01]\n",
      " [  2.44834816e-03   1.16880693e-02  -1.69841457e-03   1.10164061e-01]]\n"
     ]
    }
   ],
   "source": [
    "ixs = ixs[np.argsort(ixs[:, 0]), :]\n",
    "ixs_perm = ixs[:, 1] # ixs_perm = [2 0 3 1]\n",
    "W_ica_perm = np.zeros_like(W_ica)\n",
    "W_ica_perm[ixs_perm] = W_ica\n",
    "print(W_ica_perm)"
   ]
  },
  {
   "cell_type": "code",
   "execution_count": 112,
   "metadata": {},
   "outputs": [
    {
     "name": "stdout",
     "output_type": "stream",
     "text": [
      "[[  1.00000000e+00   1.23448380e-02  -4.04242863e-03  -2.73771607e+00]\n",
      " [ -4.81832253e+00   1.00000000e+00  -5.75127641e-03   6.38334045e-02]\n",
      " [ -9.85124549e-02  -6.97832880e+00   1.00000000e+00  -2.07003105e+00]\n",
      " [  2.22245635e-02   1.06096936e-01  -1.54171383e-02   1.00000000e+00]]\n"
     ]
    }
   ],
   "source": [
    "D = np.diag(W_ica_perm)[:, np.newaxis]\n",
    "W_ica_perm_D = W_ica_perm / D\n",
    "print(W_ica_perm_D)"
   ]
  },
  {
   "cell_type": "code",
   "execution_count": 113,
   "metadata": {},
   "outputs": [
    {
     "name": "stdout",
     "output_type": "stream",
     "text": [
      "[[  0.00000000e+00  -1.23448380e-02   4.04242863e-03   2.73771607e+00]\n",
      " [  4.81832253e+00   0.00000000e+00   5.75127641e-03  -6.38334045e-02]\n",
      " [  9.85124549e-02   6.97832880e+00   0.00000000e+00   2.07003105e+00]\n",
      " [ -2.22245635e-02  -1.06096936e-01   1.54171383e-02   0.00000000e+00]]\n"
     ]
    }
   ],
   "source": [
    "b_est = np.eye(n_features) - W_ica_perm_D\n",
    "print(b_est)"
   ]
  },
  {
   "cell_type": "code",
   "execution_count": 114,
   "metadata": {},
   "outputs": [
    {
     "name": "stdout",
     "output_type": "stream",
     "text": [
      "[ 0  5 10 15  2  6  1 14 12  7  8 13 11  3  4  9]\n",
      "[[ 0.          0.          0.          2.73771607]\n",
      " [ 4.81832253  0.          0.         -0.0638334 ]\n",
      " [ 0.09851245  6.9783288   0.          2.07003105]\n",
      " [ 0.         -0.10609694  0.          0.        ]]\n",
      "None\n",
      "[[ 0.          0.          0.          2.73771607]\n",
      " [ 4.81832253  0.          0.          0.        ]\n",
      " [ 0.09851245  6.9783288   0.          2.07003105]\n",
      " [ 0.         -0.10609694  0.          0.        ]]\n",
      "None\n",
      "[[ 0.          0.          0.          2.73771607]\n",
      " [ 4.81832253  0.          0.          0.        ]\n",
      " [ 0.          6.9783288   0.          2.07003105]\n",
      " [ 0.         -0.10609694  0.          0.        ]]\n",
      "None\n",
      "[[ 0.          0.          0.          2.73771607]\n",
      " [ 4.81832253  0.          0.          0.        ]\n",
      " [ 0.          6.9783288   0.          2.07003105]\n",
      " [ 0.          0.          0.          0.        ]]\n",
      "[3 0 1 2]\n",
      "[3 0 1 2]\n",
      "[[ 0.          0.          0.          2.73771607]\n",
      " [ 4.81832253  0.          0.         -0.0638334 ]\n",
      " [ 0.09851245  6.9783288   0.          2.07003105]\n",
      " [ 0.          0.          0.          0.        ]]\n"
     ]
    }
   ],
   "source": [
    "def _slttestperm(b_i):\n",
    "# b_iの行を並び替えて下三角行列にできるかどうかチェック\n",
    "    n = b_i.shape[0]\n",
    "    remnodes = np.arange(n)\n",
    "    b_rem = deepcopy(b_i)\n",
    "    p = list() \n",
    "\n",
    "    for i in range(n):\n",
    "        # 成分が全て0である行番号のリスト\n",
    "        ixs = np.where(np.sum(np.abs(b_rem), axis=1) < 1e-12)[0]\n",
    "\n",
    "        if len(ixs) == 0:\n",
    "            return None\n",
    "        else:\n",
    "            ix = ixs[0]\n",
    "            p.append(remnodes[ix])\n",
    "\n",
    "            #　成分が全て0である行を削除\n",
    "            remnodes = np.hstack((remnodes[:ix], remnodes[(ix + 1):]))\n",
    "            ixs = np.hstack((np.arange(ix), np.arange(ix + 1, len(b_rem))))\n",
    "            b_rem = b_rem[ixs, :]\n",
    "            b_rem = b_rem[:, ixs]\n",
    "\n",
    "    return np.array(p)\n",
    "\n",
    "b = b_est\n",
    "n = b.shape[0]\n",
    "assert(b.shape == (n, n))\n",
    "\n",
    "ixs = np.argsort(np.abs(b).ravel())\n",
    "#print(np.abs(b).ravel())\n",
    "print(ixs)\n",
    "#print(range(int(n * (n + 1) / 2) - 1, (n * n) - 1))\n",
    "\n",
    "for i in range(int(n * (n + 1) / 2) - 1, (n * n) - 1):\n",
    "    b_i = deepcopy(b)\n",
    "    b_i.ravel()[ixs[:i]] = 0\n",
    "    print(b_i)\n",
    "    ixs_perm = _slttestperm(b_i)\n",
    "    print(ixs_perm)\n",
    "    if ixs_perm is not None:\n",
    "        print(ixs_perm)\n",
    "        b_opt = deepcopy(b)\n",
    "        #print(b_opt)\n",
    "        b_opt = b_opt[ixs_perm, :]\n",
    "        #print(b_opt)\n",
    "        b_opt = b_opt[:, ixs_perm]\n",
    "        #print(b_opt)\n",
    "        break\n",
    "\n",
    "#print(b_opt)\n",
    "b_csl = np.tril(b_opt, -1)\n",
    "#print(b_csl)\n",
    "#print(ixs_perm)\n",
    "b_csl[ixs_perm, :] = deepcopy(b_csl)\n",
    "#print(b_csl)\n",
    "b_csl[:, ixs_perm] = deepcopy(b_csl)\n",
    "print(b_csl)\n"
   ]
  },
  {
   "cell_type": "code",
   "execution_count": null,
   "metadata": {
    "collapsed": true
   },
   "outputs": [],
   "source": []
  }
 ],
 "metadata": {
  "kernelspec": {
   "display_name": "Python 3",
   "language": "python",
   "name": "python3"
  },
  "language_info": {
   "codemirror_mode": {
    "name": "ipython",
    "version": 3
   },
   "file_extension": ".py",
   "mimetype": "text/x-python",
   "name": "python",
   "nbconvert_exporter": "python",
   "pygments_lexer": "ipython3",
   "version": "3.6.1"
  }
 },
 "nbformat": 4,
 "nbformat_minor": 2
}
